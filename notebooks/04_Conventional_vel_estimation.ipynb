{
 "cells": [
  {
   "cell_type": "code",
   "execution_count": 21,
   "metadata": {
    "pycharm": {
     "name": "#%%\n"
    }
   },
   "outputs": [],
   "source": [
    "import numpy as np\n",
    "import scipy\n",
    "import pandas as pd\n",
    "from pathlib import Path\n",
    "from matplotlib import pyplot as plt\n",
    "import seaborn as sns\n",
    "\n",
    "from comsolmllinux import vel_estim\n",
    "from comsolmllinux.noise import make_noise\n",
    "from comsolmllinux.custom_fk import make_fk"
   ]
  },
  {
   "cell_type": "code",
   "execution_count": 22,
   "metadata": {
    "pycharm": {
     "name": "#%%\n"
    }
   },
   "outputs": [
    {
     "name": "stdout",
     "output_type": "stream",
     "text": [
      "\n",
      "Calculating symmetric modes..\n",
      "\n",
      "0/100 - 0.0 kHz × mm\n",
      "1/100 - 101.0 kHz × mm\n",
      "2/100 - 202.0 kHz × mm\n",
      "3/100 - 303.0 kHz × mm\n",
      "4/100 - 404.0 kHz × mm\n",
      "5/100 - 505.1 kHz × mm\n",
      "6/100 - 606.1 kHz × mm\n",
      "7/100 - 707.1 kHz × mm\n",
      "8/100 - 808.1 kHz × mm\n",
      "9/100 - 909.1 kHz × mm\n",
      "10/100 - 1010.1 kHz × mm\n",
      "11/100 - 1111.1 kHz × mm\n",
      "12/100 - 1212.1 kHz × mm\n",
      "13/100 - 1313.1 kHz × mm\n",
      "14/100 - 1414.1 kHz × mm\n",
      "15/100 - 1515.2 kHz × mm\n",
      "16/100 - 1616.2 kHz × mm\n",
      "17/100 - 1717.2 kHz × mm\n",
      "18/100 - 1818.2 kHz × mm\n",
      "19/100 - 1919.2 kHz × mm\n",
      "20/100 - 2020.2 kHz × mm\n",
      "21/100 - 2121.2 kHz × mm\n",
      "22/100 - 2222.2 kHz × mm\n",
      "23/100 - 2323.2 kHz × mm\n",
      "24/100 - 2424.2 kHz × mm\n",
      "25/100 - 2525.3 kHz × mm\n",
      "26/100 - 2626.3 kHz × mm\n",
      "27/100 - 2727.3 kHz × mm\n",
      "28/100 - 2828.3 kHz × mm\n",
      "29/100 - 2929.3 kHz × mm\n",
      "30/100 - 3030.3 kHz × mm\n",
      "31/100 - 3131.3 kHz × mm\n",
      "32/100 - 3232.3 kHz × mm\n",
      "33/100 - 3333.3 kHz × mm\n",
      "34/100 - 3434.3 kHz × mm\n",
      "35/100 - 3535.4 kHz × mm\n",
      "36/100 - 3636.4 kHz × mm\n",
      "37/100 - 3737.4 kHz × mm\n",
      "38/100 - 3838.4 kHz × mm\n",
      "39/100 - 3939.4 kHz × mm\n",
      "40/100 - 4040.4 kHz × mm\n",
      "41/100 - 4141.4 kHz × mm\n",
      "42/100 - 4242.4 kHz × mm\n",
      "43/100 - 4343.4 kHz × mm\n",
      "44/100 - 4444.4 kHz × mm\n",
      "45/100 - 4545.5 kHz × mm\n",
      "46/100 - 4646.5 kHz × mm\n",
      "47/100 - 4747.5 kHz × mm\n",
      "48/100 - 4848.5 kHz × mm\n",
      "49/100 - 4949.5 kHz × mm\n",
      "50/100 - 5050.5 kHz × mm\n",
      "51/100 - 5151.5 kHz × mm\n",
      "52/100 - 5252.5 kHz × mm\n",
      "53/100 - 5353.5 kHz × mm\n",
      "54/100 - 5454.5 kHz × mm\n",
      "55/100 - 5555.6 kHz × mm\n",
      "56/100 - 5656.6 kHz × mm\n",
      "57/100 - 5757.6 kHz × mm\n",
      "58/100 - 5858.6 kHz × mm\n",
      "59/100 - 5959.6 kHz × mm\n",
      "60/100 - 6060.6 kHz × mm\n",
      "61/100 - 6161.6 kHz × mm\n"
     ]
    },
    {
     "name": "stderr",
     "output_type": "stream",
     "text": [
      "C:\\Users\\Magnus\\PycharmProjects\\PhD\\Comsol_ML_linux\\comsolmllinux\\lamb\\lamb.py:227: RuntimeWarning: invalid value encountered in double_scalars\n",
      "  k = omega/vp\n",
      "C:\\Users\\Magnus\\PycharmProjects\\PhD\\Comsol_ML_linux\\comsolmllinux\\lamb\\lamb.py:229: RuntimeWarning: invalid value encountered in sqrt\n",
      "  p = np.sqrt((omega/self.c_L)**2 - k**2, dtype=np.complex128)\n",
      "C:\\Users\\Magnus\\PycharmProjects\\PhD\\Comsol_ML_linux\\comsolmllinux\\lamb\\lamb.py:230: RuntimeWarning: invalid value encountered in sqrt\n",
      "  q = np.sqrt((omega/self.c_S)**2 - k**2, dtype=np.complex128)\n",
      "C:\\Users\\Magnus\\PycharmProjects\\PhD\\Comsol_ML_linux\\comsolmllinux\\lamb\\lamb.py:256: RuntimeWarning: invalid value encountered in cdouble_scalars\n",
      "  symmetric = (np.tan(q*self.h)/q\n",
      "C:\\Users\\Magnus\\PycharmProjects\\PhD\\Comsol_ML_linux\\comsolmllinux\\lamb\\lamb.py:257: RuntimeWarning: invalid value encountered in cdouble_scalars\n",
      "  + (4*(k**2)*p*np.tan(p*self.h))/(q**2 - k**2)**2)\n",
      "C:\\Users\\Magnus\\PycharmProjects\\PhD\\Comsol_ML_linux\\comsolmllinux\\lamb\\lamb.py:227: RuntimeWarning: divide by zero encountered in double_scalars\n",
      "  k = omega/vp\n"
     ]
    },
    {
     "name": "stdout",
     "output_type": "stream",
     "text": [
      "62/100 - 6262.6 kHz × mm\n",
      "63/100 - 6363.6 kHz × mm\n",
      "64/100 - 6464.6 kHz × mm\n",
      "65/100 - 6565.7 kHz × mm\n",
      "66/100 - 6666.7 kHz × mm\n",
      "67/100 - 6767.7 kHz × mm\n",
      "68/100 - 6868.7 kHz × mm\n",
      "69/100 - 6969.7 kHz × mm\n",
      "70/100 - 7070.7 kHz × mm\n",
      "71/100 - 7171.7 kHz × mm\n",
      "72/100 - 7272.7 kHz × mm\n",
      "73/100 - 7373.7 kHz × mm\n",
      "74/100 - 7474.7 kHz × mm\n",
      "75/100 - 7575.8 kHz × mm\n",
      "76/100 - 7676.8 kHz × mm\n",
      "77/100 - 7777.8 kHz × mm\n",
      "78/100 - 7878.8 kHz × mm\n",
      "79/100 - 7979.8 kHz × mm\n",
      "80/100 - 8080.8 kHz × mm\n",
      "81/100 - 8181.8 kHz × mm\n",
      "82/100 - 8282.8 kHz × mm\n",
      "83/100 - 8383.8 kHz × mm\n",
      "84/100 - 8484.8 kHz × mm\n",
      "85/100 - 8585.9 kHz × mm\n",
      "86/100 - 8686.9 kHz × mm\n",
      "87/100 - 8787.9 kHz × mm\n",
      "88/100 - 8888.9 kHz × mm\n",
      "89/100 - 8989.9 kHz × mm\n",
      "90/100 - 9090.9 kHz × mm\n",
      "91/100 - 9191.9 kHz × mm\n",
      "92/100 - 9292.9 kHz × mm\n",
      "93/100 - 9393.9 kHz × mm\n",
      "94/100 - 9494.9 kHz × mm\n",
      "95/100 - 9596.0 kHz × mm\n",
      "96/100 - 9697.0 kHz × mm\n",
      "97/100 - 9798.0 kHz × mm\n",
      "98/100 - 9899.0 kHz × mm\n",
      "99/100 - 10000.0 kHz × mm\n",
      "\n",
      "Calculating antisymmetric modes..\n",
      "\n",
      "0/100 - 0.0 kHz × mm\n",
      "1/100 - 101.0 kHz × mm\n",
      "2/100 - 202.0 kHz × mm\n",
      "3/100 - 303.0 kHz × mm\n",
      "4/100 - 404.0 kHz × mm\n",
      "5/100 - 505.1 kHz × mm\n"
     ]
    },
    {
     "name": "stderr",
     "output_type": "stream",
     "text": [
      "C:\\Users\\Magnus\\PycharmProjects\\PhD\\Comsol_ML_linux\\comsolmllinux\\lamb\\lamb.py:284: RuntimeWarning: invalid value encountered in cdouble_scalars\n",
      "  + (((q**2 - k**2)**2)*np.tan(p*self.h))/(4*(k**2)*p))\n",
      "C:\\Users\\Magnus\\PycharmProjects\\PhD\\Comsol_ML_linux\\comsolmllinux\\lamb\\lamb.py:283: RuntimeWarning: invalid value encountered in cdouble_scalars\n",
      "  antisymmetric = (q * np.tan(q*self.h)\n"
     ]
    },
    {
     "name": "stdout",
     "output_type": "stream",
     "text": [
      "6/100 - 606.1 kHz × mm\n",
      "7/100 - 707.1 kHz × mm\n",
      "8/100 - 808.1 kHz × mm\n",
      "9/100 - 909.1 kHz × mm\n",
      "10/100 - 1010.1 kHz × mm\n",
      "11/100 - 1111.1 kHz × mm\n",
      "12/100 - 1212.1 kHz × mm\n",
      "13/100 - 1313.1 kHz × mm\n",
      "14/100 - 1414.1 kHz × mm\n",
      "15/100 - 1515.2 kHz × mm\n",
      "16/100 - 1616.2 kHz × mm\n",
      "17/100 - 1717.2 kHz × mm\n",
      "18/100 - 1818.2 kHz × mm\n",
      "19/100 - 1919.2 kHz × mm\n",
      "20/100 - 2020.2 kHz × mm\n",
      "21/100 - 2121.2 kHz × mm\n",
      "22/100 - 2222.2 kHz × mm\n",
      "23/100 - 2323.2 kHz × mm\n",
      "24/100 - 2424.2 kHz × mm\n",
      "25/100 - 2525.3 kHz × mm\n",
      "26/100 - 2626.3 kHz × mm\n",
      "27/100 - 2727.3 kHz × mm\n",
      "28/100 - 2828.3 kHz × mm\n",
      "29/100 - 2929.3 kHz × mm\n",
      "30/100 - 3030.3 kHz × mm\n",
      "31/100 - 3131.3 kHz × mm\n",
      "32/100 - 3232.3 kHz × mm\n",
      "33/100 - 3333.3 kHz × mm\n",
      "34/100 - 3434.3 kHz × mm\n",
      "35/100 - 3535.4 kHz × mm\n",
      "36/100 - 3636.4 kHz × mm\n",
      "37/100 - 3737.4 kHz × mm\n",
      "38/100 - 3838.4 kHz × mm\n",
      "39/100 - 3939.4 kHz × mm\n",
      "40/100 - 4040.4 kHz × mm\n",
      "41/100 - 4141.4 kHz × mm\n",
      "42/100 - 4242.4 kHz × mm\n",
      "43/100 - 4343.4 kHz × mm\n",
      "44/100 - 4444.4 kHz × mm\n",
      "45/100 - 4545.5 kHz × mm\n",
      "46/100 - 4646.5 kHz × mm\n",
      "47/100 - 4747.5 kHz × mm\n",
      "48/100 - 4848.5 kHz × mm\n",
      "49/100 - 4949.5 kHz × mm\n",
      "50/100 - 5050.5 kHz × mm\n",
      "51/100 - 5151.5 kHz × mm\n",
      "52/100 - 5252.5 kHz × mm\n",
      "53/100 - 5353.5 kHz × mm\n",
      "54/100 - 5454.5 kHz × mm\n",
      "55/100 - 5555.6 kHz × mm\n",
      "56/100 - 5656.6 kHz × mm\n",
      "57/100 - 5757.6 kHz × mm\n",
      "58/100 - 5858.6 kHz × mm\n",
      "59/100 - 5959.6 kHz × mm\n",
      "60/100 - 6060.6 kHz × mm\n",
      "61/100 - 6161.6 kHz × mm\n",
      "62/100 - 6262.6 kHz × mm\n",
      "63/100 - 6363.6 kHz × mm\n",
      "64/100 - 6464.6 kHz × mm\n",
      "65/100 - 6565.7 kHz × mm\n",
      "66/100 - 6666.7 kHz × mm\n",
      "67/100 - 6767.7 kHz × mm\n",
      "68/100 - 6868.7 kHz × mm\n",
      "69/100 - 6969.7 kHz × mm\n",
      "70/100 - 7070.7 kHz × mm\n",
      "71/100 - 7171.7 kHz × mm\n",
      "72/100 - 7272.7 kHz × mm\n",
      "73/100 - 7373.7 kHz × mm\n",
      "74/100 - 7474.7 kHz × mm\n",
      "75/100 - 7575.8 kHz × mm\n",
      "76/100 - 7676.8 kHz × mm\n",
      "77/100 - 7777.8 kHz × mm\n",
      "78/100 - 7878.8 kHz × mm\n",
      "79/100 - 7979.8 kHz × mm\n",
      "80/100 - 8080.8 kHz × mm\n",
      "81/100 - 8181.8 kHz × mm\n",
      "82/100 - 8282.8 kHz × mm\n",
      "83/100 - 8383.8 kHz × mm\n",
      "84/100 - 8484.8 kHz × mm\n",
      "85/100 - 8585.9 kHz × mm\n",
      "86/100 - 8686.9 kHz × mm\n",
      "87/100 - 8787.9 kHz × mm\n",
      "88/100 - 8888.9 kHz × mm\n",
      "89/100 - 8989.9 kHz × mm\n",
      "90/100 - 9090.9 kHz × mm\n",
      "91/100 - 9191.9 kHz × mm\n",
      "92/100 - 9292.9 kHz × mm\n",
      "93/100 - 9393.9 kHz × mm\n",
      "94/100 - 9494.9 kHz × mm\n",
      "95/100 - 9596.0 kHz × mm\n",
      "96/100 - 9697.0 kHz × mm\n",
      "97/100 - 9798.0 kHz × mm\n",
      "98/100 - 9899.0 kHz × mm\n",
      "99/100 - 10000.0 kHz × mm\n"
     ]
    }
   ],
   "source": [
    "steel = vel_estim.make_lamb_curves(E=205e9, p=7850, v=0.28)"
   ]
  },
  {
   "cell_type": "code",
   "execution_count": 23,
   "metadata": {
    "pycharm": {
     "name": "#%%\n"
    }
   },
   "outputs": [],
   "source": [
    "ds = np.arange(5.0, 11, 0.05)"
   ]
  },
  {
   "cell_type": "code",
   "execution_count": 24,
   "metadata": {
    "pycharm": {
     "name": "#%%\n"
    }
   },
   "outputs": [],
   "source": [
    "labels = pd.read_csv(Path().joinpath('..', 'data', 'input_synth', 'input_synth_ideal', 'labels_ideal.csv'))\n"
   ]
  },
  {
   "cell_type": "code",
   "execution_count": 25,
   "metadata": {
    "pycharm": {
     "name": "#%%\n"
    }
   },
   "outputs": [],
   "source": [
    "#datasetnumber = 0\n",
    "timesamples = 400\n",
    "noisedb = -12\n",
    "dt = 1e-6\n",
    "d_true = 8.0"
   ]
  },
  {
   "cell_type": "code",
   "execution_count": 26,
   "metadata": {
    "pycharm": {
     "name": "#%%\n"
    }
   },
   "outputs": [],
   "source": [
    "datasetnumber = labels.index[labels['thickness'] == d_true][0]"
   ]
  },
  {
   "cell_type": "code",
   "execution_count": 27,
   "metadata": {
    "pycharm": {
     "name": "#%%\n"
    }
   },
   "outputs": [
    {
     "data": {
      "text/plain": [
       "10"
      ]
     },
     "execution_count": 27,
     "metadata": {},
     "output_type": "execute_result"
    }
   ],
   "source": [
    "datasetnumber"
   ]
  },
  {
   "cell_type": "code",
   "execution_count": 28,
   "metadata": {
    "pycharm": {
     "name": "#%%\n"
    }
   },
   "outputs": [],
   "source": [
    "mat = scipy.io.loadmat(Path().joinpath('..', 'data', 'input_synth', 'input_synth_ideal', 'concat_traces_ideal.mat'))\n",
    "X = mat['concat_traces'].astype('float32')\n",
    "X = np.swapaxes(X, 2, 1)"
   ]
  },
  {
   "cell_type": "code",
   "execution_count": 29,
   "metadata": {
    "pycharm": {
     "name": "#%%\n"
    }
   },
   "outputs": [
    {
     "data": {
      "text/plain": [
       "(21, 73, 401)"
      ]
     },
     "execution_count": 29,
     "metadata": {},
     "output_type": "execute_result"
    }
   ],
   "source": [
    "X.shape"
   ]
  },
  {
   "cell_type": "code",
   "execution_count": 30,
   "metadata": {
    "pycharm": {
     "name": "#%%\n"
    }
   },
   "outputs": [],
   "source": [
    "X = X[:,:-1,:]"
   ]
  },
  {
   "cell_type": "code",
   "execution_count": 31,
   "metadata": {
    "pycharm": {
     "name": "#%%\n"
    }
   },
   "outputs": [
    {
     "data": {
      "text/plain": [
       "(21, 72, 401)"
      ]
     },
     "execution_count": 31,
     "metadata": {},
     "output_type": "execute_result"
    }
   ],
   "source": [
    "X.shape"
   ]
  },
  {
   "cell_type": "code",
   "execution_count": 32,
   "metadata": {
    "pycharm": {
     "name": "#%%\n"
    }
   },
   "outputs": [],
   "source": [
    "#X = np.roll(X, 36, axis=1)"
   ]
  },
  {
   "cell_type": "code",
   "execution_count": 33,
   "metadata": {
    "pycharm": {
     "name": "#%%\n"
    }
   },
   "outputs": [
    {
     "data": {
      "image/png": "[encoded data removed]",
      "text/plain": [
       "<Figure size 432x288 with 1 Axes>"
      ]
     },
     "metadata": {},
     "output_type": "display_data"
    }
   ],
   "source": [
    "plt.figure()\n",
    "plt.pcolormesh(X[0,:,:].T, cmap='gray')\n",
    "plt.gca().invert_yaxis()\n",
    "plt.show()"
   ]
  },
  {
   "cell_type": "code",
   "execution_count": 34,
   "metadata": {
    "pycharm": {
     "name": "#%%\n"
    }
   },
   "outputs": [],
   "source": [
    "X_sample_c = X[:,:,:timesamples]/X.max()\n",
    "X_sample_n = X_sample_c + make_noise(noisedb, X_sample_c.shape)"
   ]
  },
  {
   "cell_type": "code",
   "execution_count": null,
   "outputs": [],
   "source": [
    "decim = 6# decim needs to be 6 for 12 clock positions\n",
    "dx = 3455*0.2e-3/72*decim # For clock positions\n",
    "fk_c, k_array, f_array = make_fk(X_sample_c[datasetnumber, ::decim, :].T, dt, dx)\n",
    "fk_n, k_array, f_array = make_fk(X_sample_n[datasetnumber, ::decim, :].T, dt, dx)"
   ],
   "metadata": {
    "collapsed": false,
    "pycharm": {
     "name": "#%%\n"
    }
   }
  },
  {
   "cell_type": "code",
   "execution_count": null,
   "outputs": [],
   "source": [
    "sns.set_style('white')\n",
    "sns.set_context('talk')\n",
    "plt.figure(figsize=(16,8))\n",
    "plt.subplot(1,2,1)\n",
    "plt.pcolormesh(X_sample_c[datasetnumber,::decim,:].T, cmap='gray')\n",
    "plt.gca().invert_yaxis()\n",
    "plt.colorbar()\n",
    "plt.subplot(1,2,2)\n",
    "plt.pcolormesh(X_sample_n[datasetnumber,::decim,:].T, cmap='gray')\n",
    "plt.gca().invert_yaxis()\n",
    "plt.colorbar()\n",
    "\n",
    "\n",
    "plt.show()"
   ],
   "metadata": {
    "collapsed": false,
    "pycharm": {
     "name": "#%%\n"
    }
   }
  },
  {
   "cell_type": "code",
   "execution_count": null,
   "outputs": [],
   "source": [
    "fk = 20*np.log10(np.abs(fk_c)/np.max(np.abs(fk_c)))\n",
    "#fk = np.abs(fk_n )"
   ],
   "metadata": {
    "collapsed": false,
    "pycharm": {
     "name": "#%%\n"
    }
   }
  },
  {
   "cell_type": "code",
   "execution_count": null,
   "outputs": [],
   "source": [
    "vel_estim.FK_thickness_estimation(fk, k_array, f_array, dx, steel.vp_antisym['A0'], ds, 25e3, 100e3, plot=True, d_true=d_true)"
   ],
   "metadata": {
    "collapsed": false,
    "pycharm": {
     "name": "#%%\n"
    }
   }
  },
  {
   "cell_type": "code",
   "execution_count": null,
   "outputs": [],
   "source": [
    "k_array.min()"
   ],
   "metadata": {
    "collapsed": false,
    "pycharm": {
     "name": "#%%\n"
    }
   }
  },
  {
   "cell_type": "code",
   "execution_count": null,
   "outputs": [],
   "source": [
    "test"
   ],
   "metadata": {
    "collapsed": false,
    "pycharm": {
     "name": "#%%\n"
    }
   }
  },
  {
   "cell_type": "code",
   "execution_count": 40,
   "metadata": {},
   "outputs": [
    {
     "ename": "NameError",
     "evalue": "name 'test' is not defined",
     "output_type": "error",
     "traceback": [
      "\u001B[1;31m---------------------------------------------------------------------------\u001B[0m",
      "\u001B[1;31mNameError\u001B[0m                                 Traceback (most recent call last)",
      "Input \u001B[1;32mIn [40]\u001B[0m, in \u001B[0;36m<cell line: 1>\u001B[1;34m()\u001B[0m\n\u001B[1;32m----> 1\u001B[0m \u001B[43mtest\u001B[49m\n",
      "\u001B[1;31mNameError\u001B[0m: name 'test' is not defined"
     ]
    }
   ],
   "source": [
    "test"
   ]
  }
 ],
 "metadata": {
  "kernelspec": {
   "display_name": "Python 3 (ipykernel)",
   "language": "python",
   "name": "python3"
  },
  "language_info": {
   "codemirror_mode": {
    "name": "ipython",
    "version": 3
   },
   "file_extension": ".py",
   "mimetype": "text/x-python",
   "name": "python",
   "nbconvert_exporter": "python",
   "pygments_lexer": "ipython3",
   "version": "3.10.0"
  }
 },
 "nbformat": 4,
 "nbformat_minor": 1
}